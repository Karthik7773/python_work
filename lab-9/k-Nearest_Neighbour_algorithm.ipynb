{
 "cells": [
  {
   "cell_type": "code",
   "execution_count": 1,
   "metadata": {},
   "outputs": [],
   "source": [
    "from sklearn.neighbors import KNeighborsClassifier\n",
    "from sklearn.metrics import confusion_matrix,accuracy_score,classification_report\n",
    "from sklearn.model_selection import train_test_split\n",
    "import pandas as pd\n",
    "from sklearn import datasets"
   ]
  },
  {
   "cell_type": "code",
   "execution_count": 2,
   "metadata": {},
   "outputs": [
    {
     "name": "stdout",
     "output_type": "stream",
     "text": [
      "iris data set is loaded\n"
     ]
    }
   ],
   "source": [
    "iris = datasets.load_iris()\n",
    "print(\"iris data set is loaded\")"
   ]
  },
  {
   "cell_type": "code",
   "execution_count": 3,
   "metadata": {},
   "outputs": [
    {
     "name": "stdout",
     "output_type": "stream",
     "text": [
      "Dataset is spit int training andtesting\n",
      "size of training data and its label (135, 4) (135,)\n",
      "size of testing data and its label (15, 4) (15,)\n"
     ]
    }
   ],
   "source": [
    "x_train,x_test,y_train,y_test = train_test_split(iris.data,iris.target,test_size = 0.1)\n",
    "print(\"Dataset is spit int training andtesting\")\n",
    "print(\"size of training data and its label\",x_train.shape,y_train.shape)\n",
    "print(\"size of testing data and its label\",x_test.shape,y_test.shape)"
   ]
  },
  {
   "cell_type": "code",
   "execution_count": 4,
   "metadata": {},
   "outputs": [
    {
     "name": "stdout",
     "output_type": "stream",
     "text": [
      "Label 0 - setosa\n",
      "Label 1 - versicolor\n",
      "Label 2 - virginica\n"
     ]
    }
   ],
   "source": [
    "for i in range(len(iris.target_names)):\n",
    "    print(\"Label\",i,\"-\",str(iris.target_names[i]))"
   ]
  },
  {
   "cell_type": "code",
   "execution_count": 5,
   "metadata": {},
   "outputs": [],
   "source": [
    "classifier = KNeighborsClassifier(n_neighbors=1)"
   ]
  },
  {
   "cell_type": "code",
   "execution_count": 6,
   "metadata": {},
   "outputs": [],
   "source": [
    "classifier.fit(x_train,y_train)\n",
    "y_pred = classifier.predict(x_test)"
   ]
  },
  {
   "cell_type": "code",
   "execution_count": 7,
   "metadata": {},
   "outputs": [
    {
     "name": "stdout",
     "output_type": "stream",
     "text": [
      "Results of classification using K-nn with K=1\n",
      "Sample: [5.1 3.5 1.4 0.3] Actual-label 0 Predicted label 0\n",
      "Sample: [6.1 3.  4.9 1.8] Actual-label 2 Predicted label 2\n",
      "Sample: [6.3 3.4 5.6 2.4] Actual-label 2 Predicted label 2\n",
      "Sample: [6.9 3.1 5.1 2.3] Actual-label 2 Predicted label 2\n",
      "Sample: [5.8 2.7 5.1 1.9] Actual-label 2 Predicted label 2\n",
      "Sample: [5.4 3.9 1.7 0.4] Actual-label 0 Predicted label 0\n",
      "Sample: [4.7 3.2 1.3 0.2] Actual-label 0 Predicted label 0\n",
      "Sample: [5.5 2.6 4.4 1.2] Actual-label 1 Predicted label 1\n",
      "Sample: [5.7 2.5 5.  2. ] Actual-label 2 Predicted label 2\n",
      "Sample: [4.6 3.1 1.5 0.2] Actual-label 0 Predicted label 0\n",
      "Sample: [5.9 3.  5.1 1.8] Actual-label 2 Predicted label 2\n",
      "Sample: [5.1 3.3 1.7 0.5] Actual-label 0 Predicted label 0\n",
      "Sample: [5.7 2.9 4.2 1.3] Actual-label 1 Predicted label 1\n",
      "Sample: [5.7 3.  4.2 1.2] Actual-label 1 Predicted label 1\n",
      "Sample: [5.  3.3 1.4 0.2] Actual-label 0 Predicted label 0\n"
     ]
    }
   ],
   "source": [
    "print(\"Results of classification using K-nn with K=1\")\n",
    "for r in range(0,len(x_test)):\n",
    "    print(\"Sample:\",str(x_test[r]),\"Actual-label\",str(y_test[r]),\"Predicted label\",str(y_pred[r]))"
   ]
  },
  {
   "cell_type": "code",
   "execution_count": 8,
   "metadata": {},
   "outputs": [
    {
     "name": "stdout",
     "output_type": "stream",
     "text": [
      "Classification Accuracy 1.0\n"
     ]
    }
   ],
   "source": [
    "print(\"Classification Accuracy\",classifier.score(x_test,y_test))"
   ]
  },
  {
   "cell_type": "code",
   "execution_count": null,
   "metadata": {},
   "outputs": [],
   "source": []
  }
 ],
 "metadata": {
  "kernelspec": {
   "display_name": "Python 3",
   "language": "python",
   "name": "python3"
  },
  "language_info": {
   "codemirror_mode": {
    "name": "ipython",
    "version": 3
   },
   "file_extension": ".py",
   "mimetype": "text/x-python",
   "name": "python",
   "nbconvert_exporter": "python",
   "pygments_lexer": "ipython3",
   "version": "3.7.3"
  }
 },
 "nbformat": 4,
 "nbformat_minor": 2
}
