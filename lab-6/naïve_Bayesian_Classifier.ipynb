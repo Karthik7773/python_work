{
 "cells": [
  {
   "cell_type": "code",
   "execution_count": 1,
   "metadata": {},
   "outputs": [],
   "source": [
    "import pandas as pd\n",
    "from sklearn.model_selection import train_test_split\n",
    "from sklearn.feature_extraction.text import CountVectorizer\n",
    "from sklearn.naive_bayes import MultinomialNB\n",
    "from sklearn import metrics"
   ]
  },
  {
   "cell_type": "code",
   "execution_count": 3,
   "metadata": {},
   "outputs": [],
   "source": [
    "msg = pd.read_csv(\"C://Users//karth//Documents//notes 7thsem//ml//ML-lab programs//lab6.csv\",names=['message','label'])"
   ]
  },
  {
   "cell_type": "code",
   "execution_count": 4,
   "metadata": {},
   "outputs": [],
   "source": [
    "msg['labelnum'] = msg.label.map({'pos':1,'neg':0})\n",
    "X = msg.message\n",
    "Y = msg.labelnum"
   ]
  },
  {
   "cell_type": "code",
   "execution_count": 5,
   "metadata": {},
   "outputs": [
    {
     "name": "stdout",
     "output_type": "stream",
     "text": [
      "The message and its label of first 5 instances are listed below\n",
      "I love this sandwich , pos\n",
      "This is an amazing place , pos\n",
      "I feel very good about these beers , pos\n",
      "This is my best work , pos\n",
      "What an awesome view , pos\n"
     ]
    }
   ],
   "source": [
    "print(\"The message and its label of first 5 instances are listed below\")\n",
    "x5,y5 = X[0:5],msg.label[0:5]\n",
    "for x,y in zip(x5,y5):\n",
    "    print(x,',',y)"
   ]
  },
  {
   "cell_type": "code",
   "execution_count": 6,
   "metadata": {},
   "outputs": [
    {
     "name": "stdout",
     "output_type": "stream",
     "text": [
      "Dataset is split into training and testing samples\n",
      "Total training instances: 13\n",
      "Total testing instances: 5\n"
     ]
    },
    {
     "data": {
      "text/plain": [
       "15    0\n",
       "0     1\n",
       "4     1\n",
       "13    0\n",
       "1     1\n",
       "Name: labelnum, dtype: int64"
      ]
     },
     "execution_count": 6,
     "metadata": {},
     "output_type": "execute_result"
    }
   ],
   "source": [
    "xtrain,xtest,ytrain,ytest = train_test_split(X,Y)\n",
    "print(\"Dataset is split into training and testing samples\")\n",
    "print('Total training instances:',xtrain.shape[0])\n",
    "print('Total testing instances:',xtest.shape[0])\n",
    "ytest"
   ]
  },
  {
   "cell_type": "code",
   "execution_count": 7,
   "metadata": {},
   "outputs": [
    {
     "name": "stdout",
     "output_type": "stream",
     "text": [
      "Total features extracted using countvectorizer: 47\n"
     ]
    }
   ],
   "source": [
    "count_vect = CountVectorizer()\n",
    "xtrain_dtm = count_vect.fit_transform(xtrain)\n",
    "xtest_dtm = count_vect.transform(xtest)\n",
    "print('Total features extracted using countvectorizer:',xtrain_dtm.shape[1])"
   ]
  },
  {
   "cell_type": "code",
   "execution_count": 8,
   "metadata": {},
   "outputs": [
    {
     "name": "stdout",
     "output_type": "stream",
     "text": [
      "features for first 5 training instances are listed below \n"
     ]
    }
   ],
   "source": [
    "print('features for first 5 training instances are listed below ')\n",
    "df = pd.DataFrame(xtrain_dtm.toarray(),columns=count_vect.get_feature_names())"
   ]
  },
  {
   "cell_type": "code",
   "execution_count": 9,
   "metadata": {},
   "outputs": [
    {
     "data": {
      "text/plain": [
       "5     0\n",
       "8     0\n",
       "7     0\n",
       "17    0\n",
       "2     1\n",
       "10    1\n",
       "11    0\n",
       "6     0\n",
       "9     0\n",
       "14    1\n",
       "12    1\n",
       "16    1\n",
       "3     1\n",
       "Name: labelnum, dtype: int64"
      ]
     },
     "execution_count": 9,
     "metadata": {},
     "output_type": "execute_result"
    }
   ],
   "source": [
    "clf = MultinomialNB().fit(xtrain_dtm,ytrain)\n",
    "predicted = clf.predict(xtest_dtm)\n",
    "ytrain"
   ]
  },
  {
   "cell_type": "code",
   "execution_count": 10,
   "metadata": {},
   "outputs": [
    {
     "name": "stdout",
     "output_type": "stream",
     "text": [
      "Classification results of testing samples are given below\n",
      "That is a bad locality to stay->pos\n",
      "I love this sandwich->pos\n",
      "What an awesome view->pos\n",
      "I am sick and tired of this place->neg\n",
      "This is an amazing place->pos\n"
     ]
    }
   ],
   "source": [
    "print('Classification results of testing samples are given below')\n",
    "for doc,p in zip(xtest,predicted):\n",
    "    pred = 'pos' if p == 1 else 'neg'\n",
    "    print('%s->%s'%(doc,pred))"
   ]
  },
  {
   "cell_type": "code",
   "execution_count": 11,
   "metadata": {},
   "outputs": [
    {
     "name": "stdout",
     "output_type": "stream",
     "text": [
      "Accuracy metrics\n",
      "Accuracy of the classifier is 0.8\n"
     ]
    }
   ],
   "source": [
    "print('Accuracy metrics')\n",
    "print('Accuracy of the classifier is',metrics.accuracy_score(ytest,predicted))"
   ]
  },
  {
   "cell_type": "code",
   "execution_count": 12,
   "metadata": {},
   "outputs": [
    {
     "name": "stdout",
     "output_type": "stream",
     "text": [
      "Recall : 1.0 \n",
      "precision: 0.75\n",
      "Confusion Matrix\n",
      "[[1 1]\n",
      " [0 3]]\n"
     ]
    }
   ],
   "source": [
    "print('Recall :',metrics.recall_score(ytest,predicted),'\\nprecision:',metrics.precision_score(ytest,predicted))\n",
    "print('Confusion Matrix')\n",
    "print(metrics.confusion_matrix(ytest,predicted))"
   ]
  },
  {
   "cell_type": "code",
   "execution_count": null,
   "metadata": {},
   "outputs": [],
   "source": []
  }
 ],
 "metadata": {
  "kernelspec": {
   "display_name": "Python 3",
   "language": "python",
   "name": "python3"
  },
  "language_info": {
   "codemirror_mode": {
    "name": "ipython",
    "version": 3
   },
   "file_extension": ".py",
   "mimetype": "text/x-python",
   "name": "python",
   "nbconvert_exporter": "python",
   "pygments_lexer": "ipython3",
   "version": "3.7.3"
  }
 },
 "nbformat": 4,
 "nbformat_minor": 2
}
